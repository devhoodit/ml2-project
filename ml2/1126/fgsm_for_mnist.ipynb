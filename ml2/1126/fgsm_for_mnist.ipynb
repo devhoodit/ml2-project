{
 "cells": [
  {
   "cell_type": "code",
   "execution_count": 1,
   "metadata": {
    "id": "Y3SsGAIzpIeS"
   },
   "outputs": [],
   "source": [
    "from __future__ import print_function\n",
    "import torch\n",
    "import torch.nn as nn\n",
    "import torch.nn.functional as F\n",
    "from torchvision import datasets, transforms\n",
    "import numpy as np\n",
    "import matplotlib.pyplot as plt"
   ]
  },
  {
   "cell_type": "code",
   "execution_count": 2,
   "metadata": {
    "id": "TVfxkIo4p6KH"
   },
   "outputs": [],
   "source": [
    "device = torch.device(\"cuda\" if torch.cuda.is_available() else \"cpu\")"
   ]
  },
  {
   "cell_type": "code",
   "execution_count": 4,
   "metadata": {
    "colab": {
     "base_uri": "https://localhost:8080/",
     "height": 101,
     "referenced_widgets": [
      "d4455ba144f64251897aa20489c04911",
      "5d88617f6e9b4b978e516ef920679b8c",
      "41846a377fd140c4be715f721437ec50",
      "53489d134515458a927d31d6261a9981",
      "2d3158f013d64a7e8c4043a4746be7c3",
      "2a744bc9945c4d249ee2f2d628f1535d",
      "6254e2ea3b584a2e8a3f61db00ca1dc6",
      "8c04de0af0d54c2598d3a93d8d54164e",
      "f91363628e5b4846a799e082a7729345",
      "ad2467e527514fb2bae3be2a58bc16a0",
      "2391e71c5eb44753a68b0093689e70e7"
     ]
    },
    "id": "VCTnIHJtpJHu",
    "outputId": "d7a91702-bbe8-46f9-808f-49112c61ed5f"
   },
   "outputs": [],
   "source": [
    "transformer = transforms.Compose([transforms.ToTensor(),])\n",
    "\n",
    "training_dataset = datasets.MNIST(root='./data', train=True, download=True, transform=transformer)\n",
    "validation_dataset = datasets.MNIST(root='./data', train=False, download=True, transform=transformer)\n",
    "\n",
    "training_loader = torch.utils.data.DataLoader(dataset=training_dataset, batch_size=1, shuffle=True)\n",
    "validation_loader = torch.utils.data.DataLoader(dataset=validation_dataset, batch_size=1, shuffle=False)\n"
   ]
  },
  {
   "cell_type": "code",
   "execution_count": 5,
   "metadata": {
    "id": "pHtHcpn-pPQI"
   },
   "outputs": [],
   "source": [
    "epsilons = [.05, .1, .15, .2, .25, .3]"
   ]
  },
  {
   "cell_type": "code",
   "execution_count": 6,
   "metadata": {
    "id": "s4_mRtD_pTSq"
   },
   "outputs": [],
   "source": [
    "class Net(nn.Module):\n",
    "    def __init__(self) :\n",
    "        super(Net, self).__init__()\n",
    "        self.conv_layer1 = nn.Sequential(\n",
    "            nn.Conv2d(1, 6, kernel_size=5, padding=2),\n",
    "            nn.ReLU()\n",
    "        )\n",
    "        self.pool_layer1 = nn.MaxPool2d(kernel_size=2, stride=2)\n",
    "        self.conv_layer2 = nn.Sequential(\n",
    "            nn.Conv2d(6, 16, kernel_size=5),\n",
    "            nn.ReLU()\n",
    "        )\n",
    "        self.pool_layer2 = nn.MaxPool2d(kernel_size=2, stride=2)\n",
    "        self.C5_layer = nn.Sequential(\n",
    "            nn.Linear(5*5*16, 120),\n",
    "            nn.ReLU()\n",
    "        )\n",
    "        self.fc_layer1 = nn.Sequential(\n",
    "            nn.Linear(120, 84),\n",
    "            nn.ReLU()\n",
    "        )\n",
    "        self.fc_layer2 = nn.Linear(84, 10)\n",
    "        \n",
    "    \n",
    "    def forward(self, x) :\n",
    "        output = self.conv_layer1(x)\n",
    "        output = self.pool_layer1(output)\n",
    "        output = self.conv_layer2(output)\n",
    "        output = self.pool_layer2(output)\n",
    "        output = output.reshape(-1,5*5*16)\n",
    "        output = self.C5_layer(output)\n",
    "        output = self.fc_layer1(output)\n",
    "        output = self.fc_layer2(output)\n",
    "        return output"
   ]
  },
  {
   "cell_type": "code",
   "execution_count": 7,
   "metadata": {
    "colab": {
     "base_uri": "https://localhost:8080/"
    },
    "id": "fd3Y_9FxpaKD",
    "outputId": "05472d0b-a79f-4db1-a82e-87a26752366c"
   },
   "outputs": [
    {
     "data": {
      "text/plain": [
       "Net(\n",
       "  (conv_layer1): Sequential(\n",
       "    (0): Conv2d(1, 6, kernel_size=(5, 5), stride=(1, 1), padding=(2, 2))\n",
       "    (1): ReLU()\n",
       "  )\n",
       "  (pool_layer1): MaxPool2d(kernel_size=2, stride=2, padding=0, dilation=1, ceil_mode=False)\n",
       "  (conv_layer2): Sequential(\n",
       "    (0): Conv2d(6, 16, kernel_size=(5, 5), stride=(1, 1))\n",
       "    (1): ReLU()\n",
       "  )\n",
       "  (pool_layer2): MaxPool2d(kernel_size=2, stride=2, padding=0, dilation=1, ceil_mode=False)\n",
       "  (C5_layer): Sequential(\n",
       "    (0): Linear(in_features=400, out_features=120, bias=True)\n",
       "    (1): ReLU()\n",
       "  )\n",
       "  (fc_layer1): Sequential(\n",
       "    (0): Linear(in_features=120, out_features=84, bias=True)\n",
       "    (1): ReLU()\n",
       "  )\n",
       "  (fc_layer2): Linear(in_features=84, out_features=10, bias=True)\n",
       ")"
      ]
     },
     "execution_count": 7,
     "metadata": {},
     "output_type": "execute_result"
    }
   ],
   "source": [
    "model = Net().to(device)\n",
    "model.load_state_dict(torch.load('MNIST_BaseModel_weights.pth'))\n",
    "model.eval()"
   ]
  },
  {
   "cell_type": "code",
   "execution_count": 8,
   "metadata": {
    "id": "azCI0SKypf1L"
   },
   "outputs": [],
   "source": [
    "def fgsm_attack(image, epsilon, data_grad):\n",
    "    # data_grad 의 요소별 부호 값을 얻어옵니다\n",
    "    sign_data_grad = data_grad.sign()\n",
    "    # 입력 이미지의 각 픽셀에 sign_data_grad 를 적용해 작은 변화가 적용된 이미지를 생성합니다\n",
    "    perturbed_image = image + epsilon*sign_data_grad\n",
    "    # 값 범위를 [0,1]로 유지하기 위해 자르기(clipping)를 추가합니다\n",
    "    perturbed_image = torch.clamp(perturbed_image, 0, 1)\n",
    "    # 작은 변화가 적용된 이미지를 리턴합니다\n",
    "    return perturbed_image"
   ]
  },
  {
   "cell_type": "code",
   "execution_count": 9,
   "metadata": {
    "id": "t2s4jTuoph3-"
   },
   "outputs": [],
   "source": [
    "def test( model, device, test_loader, epsilon ):\n",
    "\n",
    "    # 정확도 카운터\n",
    "    correct = 0\n",
    "    adv_examples = []\n",
    "\n",
    "    # 테스트 셋의 모든 예제에 대해 루프를 돕니다\n",
    "    for data, target in test_loader:\n",
    "\n",
    "        # 디바이스(CPU or GPU) 에 데이터와 라벨 값을 보냅니다\n",
    "        data, target = data.to(device), target.to(device)\n",
    "\n",
    "        # 텐서의 속성 중 requires_grad 를 설정합니다. 공격에서 중요한 부분입니다\n",
    "        data.requires_grad = True\n",
    "\n",
    "        # 데이터를 모델에 통과시킵니다\n",
    "        output = model(data)\n",
    "        init_pred = output.max(1, keepdim=True)[1] # 로그 확률의 최대값을 가지는 인덱스를 얻습니다\n",
    "\n",
    "        # 만약 초기 예측이 틀리면, 공격하지 않도록 하고 계속 진행합니다\n",
    "        if init_pred.item() != target.item():\n",
    "            continue\n",
    "\n",
    "        # 손실을 계산합니다\n",
    "        loss = F.nll_loss(output, target)\n",
    "\n",
    "        # 모델의 변화도들을 전부 0으로 설정합니다\n",
    "        model.zero_grad()\n",
    "\n",
    "        # 후방 전달을 통해 모델의 변화도를 계산합니다\n",
    "        loss.backward()\n",
    "\n",
    "        # 변화도 값을 모읍니다\n",
    "        data_grad = data.grad.data\n",
    "\n",
    "        # FGSM 공격을 호출합니다\n",
    "        perturbed_data = fgsm_attack(data, epsilon, data_grad)\n",
    "\n",
    "        # 작은 변화가 적용된 이미지에 대해 재분류합니다\n",
    "        output = model(perturbed_data)\n",
    "\n",
    "        # 올바른지 확인합니다\n",
    "        final_pred = output.max(1, keepdim=True)[1] # 로그 확률의 최대값을 가지는 인덱스를 얻습니다\n",
    "        if final_pred.item() == target.item():\n",
    "            correct += 1\n",
    "            # 0 엡실론 예제에 대해서 저장합니다\n",
    "            if (epsilon == 0) and (len(adv_examples) < 5):\n",
    "                adv_ex = perturbed_data.squeeze().detach().cpu().numpy()\n",
    "                adv_examples.append( (init_pred.item(), final_pred.item(), adv_ex) )\n",
    "        else:\n",
    "            # 추후 시각화를 위하 다른 예제들을 저장합니다\n",
    "            if len(adv_examples) < 5:\n",
    "                adv_ex = perturbed_data.squeeze().detach().cpu().numpy()\n",
    "                adv_examples.append( (init_pred.item(), final_pred.item(), adv_ex) )\n",
    "\n",
    "    # 해당 엡실론에서의 최종 정확도를 계산합니다\n",
    "    final_acc = correct/float(len(test_loader))\n",
    "    print(\"Epsilon: {}\\tTest Accuracy = {} / {} = {}\".format(epsilon, correct, len(test_loader), final_acc))\n",
    "\n",
    "    # 정확도와 적대적 예제를 리턴합니다\n",
    "    return final_acc, adv_examples"
   ]
  },
  {
   "cell_type": "code",
   "execution_count": 10,
   "metadata": {
    "colab": {
     "base_uri": "https://localhost:8080/"
    },
    "id": "dJJkYbropip4",
    "outputId": "0cc140b2-67af-4f38-fad1-b3b57ace0bed"
   },
   "outputs": [
    {
     "name": "stdout",
     "output_type": "stream",
     "text": [
      "Epsilon: 0.05\tTest Accuracy = 9422 / 10000 = 0.9422\n",
      "Epsilon: 0.1\tTest Accuracy = 7976 / 10000 = 0.7976\n",
      "Epsilon: 0.15\tTest Accuracy = 5598 / 10000 = 0.5598\n",
      "Epsilon: 0.2\tTest Accuracy = 2838 / 10000 = 0.2838\n",
      "Epsilon: 0.25\tTest Accuracy = 1057 / 10000 = 0.1057\n",
      "Epsilon: 0.3\tTest Accuracy = 375 / 10000 = 0.0375\n"
     ]
    }
   ],
   "source": [
    "accuracies = []\n",
    "examples = []\n",
    "\n",
    "# 각 엡실론에 대해 테스트 함수를 실행합니다\n",
    "for eps in epsilons:\n",
    "    acc, ex = test(model, device, validation_loader, eps)\n",
    "    accuracies.append(acc)\n",
    "    examples.append(ex)"
   ]
  }
 ],
 "metadata": {
  "accelerator": "GPU",
  "colab": {
   "provenance": []
  },
  "gpuClass": "standard",
  "kernelspec": {
   "display_name": "Python 3 (ipykernel)",
   "language": "python",
   "name": "python3"
  },
  "language_info": {
   "codemirror_mode": {
    "name": "ipython",
    "version": 3
   },
   "file_extension": ".py",
   "mimetype": "text/x-python",
   "name": "python",
   "nbconvert_exporter": "python",
   "pygments_lexer": "ipython3",
   "version": "3.9.7"
  },
  "vscode": {
   "interpreter": {
    "hash": "951cb00ebd66971857c5880c838618f69a707a5e4d3bee9fba08c4850d7bcc87"
   }
  },
  "widgets": {
   "application/vnd.jupyter.widget-state+json": {
    "2391e71c5eb44753a68b0093689e70e7": {
     "model_module": "@jupyter-widgets/controls",
     "model_module_version": "1.5.0",
     "model_name": "DescriptionStyleModel",
     "state": {
      "_model_module": "@jupyter-widgets/controls",
      "_model_module_version": "1.5.0",
      "_model_name": "DescriptionStyleModel",
      "_view_count": null,
      "_view_module": "@jupyter-widgets/base",
      "_view_module_version": "1.2.0",
      "_view_name": "StyleView",
      "description_width": ""
     }
    },
    "2a744bc9945c4d249ee2f2d628f1535d": {
     "model_module": "@jupyter-widgets/base",
     "model_module_version": "1.2.0",
     "model_name": "LayoutModel",
     "state": {
      "_model_module": "@jupyter-widgets/base",
      "_model_module_version": "1.2.0",
      "_model_name": "LayoutModel",
      "_view_count": null,
      "_view_module": "@jupyter-widgets/base",
      "_view_module_version": "1.2.0",
      "_view_name": "LayoutView",
      "align_content": null,
      "align_items": null,
      "align_self": null,
      "border": null,
      "bottom": null,
      "display": null,
      "flex": null,
      "flex_flow": null,
      "grid_area": null,
      "grid_auto_columns": null,
      "grid_auto_flow": null,
      "grid_auto_rows": null,
      "grid_column": null,
      "grid_gap": null,
      "grid_row": null,
      "grid_template_areas": null,
      "grid_template_columns": null,
      "grid_template_rows": null,
      "height": null,
      "justify_content": null,
      "justify_items": null,
      "left": null,
      "margin": null,
      "max_height": null,
      "max_width": null,
      "min_height": null,
      "min_width": null,
      "object_fit": null,
      "object_position": null,
      "order": null,
      "overflow": null,
      "overflow_x": null,
      "overflow_y": null,
      "padding": null,
      "right": null,
      "top": null,
      "visibility": null,
      "width": null
     }
    },
    "2d3158f013d64a7e8c4043a4746be7c3": {
     "model_module": "@jupyter-widgets/base",
     "model_module_version": "1.2.0",
     "model_name": "LayoutModel",
     "state": {
      "_model_module": "@jupyter-widgets/base",
      "_model_module_version": "1.2.0",
      "_model_name": "LayoutModel",
      "_view_count": null,
      "_view_module": "@jupyter-widgets/base",
      "_view_module_version": "1.2.0",
      "_view_name": "LayoutView",
      "align_content": null,
      "align_items": null,
      "align_self": null,
      "border": null,
      "bottom": null,
      "display": null,
      "flex": null,
      "flex_flow": null,
      "grid_area": null,
      "grid_auto_columns": null,
      "grid_auto_flow": null,
      "grid_auto_rows": null,
      "grid_column": null,
      "grid_gap": null,
      "grid_row": null,
      "grid_template_areas": null,
      "grid_template_columns": null,
      "grid_template_rows": null,
      "height": null,
      "justify_content": null,
      "justify_items": null,
      "left": null,
      "margin": null,
      "max_height": null,
      "max_width": null,
      "min_height": null,
      "min_width": null,
      "object_fit": null,
      "object_position": null,
      "order": null,
      "overflow": null,
      "overflow_x": null,
      "overflow_y": null,
      "padding": null,
      "right": null,
      "top": null,
      "visibility": null,
      "width": null
     }
    },
    "41846a377fd140c4be715f721437ec50": {
     "model_module": "@jupyter-widgets/controls",
     "model_module_version": "1.5.0",
     "model_name": "FloatProgressModel",
     "state": {
      "_dom_classes": [],
      "_model_module": "@jupyter-widgets/controls",
      "_model_module_version": "1.5.0",
      "_model_name": "FloatProgressModel",
      "_view_count": null,
      "_view_module": "@jupyter-widgets/controls",
      "_view_module_version": "1.5.0",
      "_view_name": "ProgressView",
      "bar_style": "success",
      "description": "",
      "description_tooltip": null,
      "layout": "IPY_MODEL_8c04de0af0d54c2598d3a93d8d54164e",
      "max": 170498071,
      "min": 0,
      "orientation": "horizontal",
      "style": "IPY_MODEL_f91363628e5b4846a799e082a7729345",
      "value": 170498071
     }
    },
    "53489d134515458a927d31d6261a9981": {
     "model_module": "@jupyter-widgets/controls",
     "model_module_version": "1.5.0",
     "model_name": "HTMLModel",
     "state": {
      "_dom_classes": [],
      "_model_module": "@jupyter-widgets/controls",
      "_model_module_version": "1.5.0",
      "_model_name": "HTMLModel",
      "_view_count": null,
      "_view_module": "@jupyter-widgets/controls",
      "_view_module_version": "1.5.0",
      "_view_name": "HTMLView",
      "description": "",
      "description_tooltip": null,
      "layout": "IPY_MODEL_ad2467e527514fb2bae3be2a58bc16a0",
      "placeholder": "​",
      "style": "IPY_MODEL_2391e71c5eb44753a68b0093689e70e7",
      "value": " 170498071/170498071 [00:03&lt;00:00, 53858766.18it/s]"
     }
    },
    "5d88617f6e9b4b978e516ef920679b8c": {
     "model_module": "@jupyter-widgets/controls",
     "model_module_version": "1.5.0",
     "model_name": "HTMLModel",
     "state": {
      "_dom_classes": [],
      "_model_module": "@jupyter-widgets/controls",
      "_model_module_version": "1.5.0",
      "_model_name": "HTMLModel",
      "_view_count": null,
      "_view_module": "@jupyter-widgets/controls",
      "_view_module_version": "1.5.0",
      "_view_name": "HTMLView",
      "description": "",
      "description_tooltip": null,
      "layout": "IPY_MODEL_2a744bc9945c4d249ee2f2d628f1535d",
      "placeholder": "​",
      "style": "IPY_MODEL_6254e2ea3b584a2e8a3f61db00ca1dc6",
      "value": "100%"
     }
    },
    "6254e2ea3b584a2e8a3f61db00ca1dc6": {
     "model_module": "@jupyter-widgets/controls",
     "model_module_version": "1.5.0",
     "model_name": "DescriptionStyleModel",
     "state": {
      "_model_module": "@jupyter-widgets/controls",
      "_model_module_version": "1.5.0",
      "_model_name": "DescriptionStyleModel",
      "_view_count": null,
      "_view_module": "@jupyter-widgets/base",
      "_view_module_version": "1.2.0",
      "_view_name": "StyleView",
      "description_width": ""
     }
    },
    "8c04de0af0d54c2598d3a93d8d54164e": {
     "model_module": "@jupyter-widgets/base",
     "model_module_version": "1.2.0",
     "model_name": "LayoutModel",
     "state": {
      "_model_module": "@jupyter-widgets/base",
      "_model_module_version": "1.2.0",
      "_model_name": "LayoutModel",
      "_view_count": null,
      "_view_module": "@jupyter-widgets/base",
      "_view_module_version": "1.2.0",
      "_view_name": "LayoutView",
      "align_content": null,
      "align_items": null,
      "align_self": null,
      "border": null,
      "bottom": null,
      "display": null,
      "flex": null,
      "flex_flow": null,
      "grid_area": null,
      "grid_auto_columns": null,
      "grid_auto_flow": null,
      "grid_auto_rows": null,
      "grid_column": null,
      "grid_gap": null,
      "grid_row": null,
      "grid_template_areas": null,
      "grid_template_columns": null,
      "grid_template_rows": null,
      "height": null,
      "justify_content": null,
      "justify_items": null,
      "left": null,
      "margin": null,
      "max_height": null,
      "max_width": null,
      "min_height": null,
      "min_width": null,
      "object_fit": null,
      "object_position": null,
      "order": null,
      "overflow": null,
      "overflow_x": null,
      "overflow_y": null,
      "padding": null,
      "right": null,
      "top": null,
      "visibility": null,
      "width": null
     }
    },
    "ad2467e527514fb2bae3be2a58bc16a0": {
     "model_module": "@jupyter-widgets/base",
     "model_module_version": "1.2.0",
     "model_name": "LayoutModel",
     "state": {
      "_model_module": "@jupyter-widgets/base",
      "_model_module_version": "1.2.0",
      "_model_name": "LayoutModel",
      "_view_count": null,
      "_view_module": "@jupyter-widgets/base",
      "_view_module_version": "1.2.0",
      "_view_name": "LayoutView",
      "align_content": null,
      "align_items": null,
      "align_self": null,
      "border": null,
      "bottom": null,
      "display": null,
      "flex": null,
      "flex_flow": null,
      "grid_area": null,
      "grid_auto_columns": null,
      "grid_auto_flow": null,
      "grid_auto_rows": null,
      "grid_column": null,
      "grid_gap": null,
      "grid_row": null,
      "grid_template_areas": null,
      "grid_template_columns": null,
      "grid_template_rows": null,
      "height": null,
      "justify_content": null,
      "justify_items": null,
      "left": null,
      "margin": null,
      "max_height": null,
      "max_width": null,
      "min_height": null,
      "min_width": null,
      "object_fit": null,
      "object_position": null,
      "order": null,
      "overflow": null,
      "overflow_x": null,
      "overflow_y": null,
      "padding": null,
      "right": null,
      "top": null,
      "visibility": null,
      "width": null
     }
    },
    "d4455ba144f64251897aa20489c04911": {
     "model_module": "@jupyter-widgets/controls",
     "model_module_version": "1.5.0",
     "model_name": "HBoxModel",
     "state": {
      "_dom_classes": [],
      "_model_module": "@jupyter-widgets/controls",
      "_model_module_version": "1.5.0",
      "_model_name": "HBoxModel",
      "_view_count": null,
      "_view_module": "@jupyter-widgets/controls",
      "_view_module_version": "1.5.0",
      "_view_name": "HBoxView",
      "box_style": "",
      "children": [
       "IPY_MODEL_5d88617f6e9b4b978e516ef920679b8c",
       "IPY_MODEL_41846a377fd140c4be715f721437ec50",
       "IPY_MODEL_53489d134515458a927d31d6261a9981"
      ],
      "layout": "IPY_MODEL_2d3158f013d64a7e8c4043a4746be7c3"
     }
    },
    "f91363628e5b4846a799e082a7729345": {
     "model_module": "@jupyter-widgets/controls",
     "model_module_version": "1.5.0",
     "model_name": "ProgressStyleModel",
     "state": {
      "_model_module": "@jupyter-widgets/controls",
      "_model_module_version": "1.5.0",
      "_model_name": "ProgressStyleModel",
      "_view_count": null,
      "_view_module": "@jupyter-widgets/base",
      "_view_module_version": "1.2.0",
      "_view_name": "StyleView",
      "bar_color": null,
      "description_width": ""
     }
    }
   }
  }
 },
 "nbformat": 4,
 "nbformat_minor": 4
}
