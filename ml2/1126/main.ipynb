{
 "cells": [
  {
   "cell_type": "code",
   "execution_count": null,
   "metadata": {},
   "outputs": [],
   "source": []
  }
 ],
 "metadata": {
  "kernelspec": {
   "display_name": "Python 3.10.2 64-bit",
   "language": "python",
   "name": "python3"
  },
  "language_info": {
   "name": "python",
   "version": "3.10.2"
  },
  "orig_nbformat": 4,
  "vscode": {
   "interpreter": {
    "hash": "951cb00ebd66971857c5880c838618f69a707a5e4d3bee9fba08c4850d7bcc87"
   }
  }
 },
 "nbformat": 4,
 "nbformat_minor": 2
}
