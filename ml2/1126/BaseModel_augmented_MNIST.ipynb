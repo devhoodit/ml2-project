{
  "cells": [
    {
      "cell_type": "code",
      "execution_count": 1,
      "metadata": {
        "id": "r4e_U5zYaoYa"
      },
      "outputs": [],
      "source": [
        "import torch\n",
        "from torch import nn\n",
        "from torch.nn import functional as F\n",
        "from torchvision import datasets, transforms\n",
        "\n",
        "import matplotlib.pyplot as plt\n",
        "import numpy as np"
      ]
    },
    {
      "cell_type": "code",
      "execution_count": 2,
      "metadata": {
        "id": "l5ObFPzTbdaJ"
      },
      "outputs": [],
      "source": [
        "device = torch.device(\"cuda:0\" if torch.cuda.is_available() else \"cpu\")"
      ]
    },
    {
      "cell_type": "code",
      "execution_count": 3,
      "metadata": {
        "colab": {
          "base_uri": "https://localhost:8080/",
          "height": 153,
          "referenced_widgets": [
            "fa3300fb9b5e4514a7b825aae436f45e",
            "2b08610406534916811f920938db167b",
            "967406952e4f461c9c49d3de019ff4d0",
            "36f055b610fe4d3d8d9f847f909c5f3a",
            "53713fe7544e4f059c389db5ccb64f53",
            "63e2163f94684abb88c3882a79a37b3d",
            "9c13356395f0482ea804f86a147bc3f3",
            "db1f78002d46449f974f67a337b12fc1",
            "2a97372a97354985bf47a0238695bf7a",
            "d5272fc683184127bbb2566f5c22a042",
            "2b228f77af8c4d51a38a7151cb32be07"
          ]
        },
        "id": "YJC-Etv-ass4",
        "outputId": "3cc3c0ac-3ca4-4fab-aa42-5f2799a64487"
      },
      "outputs": [
        {
          "name": "stdout",
          "output_type": "stream",
          "text": [
            "Downloading https://www.cs.toronto.edu/~kriz/cifar-10-python.tar.gz to ./data/cifar-10-python.tar.gz\n"
          ]
        },
        {
          "data": {
            "application/vnd.jupyter.widget-view+json": {
              "model_id": "fa3300fb9b5e4514a7b825aae436f45e",
              "version_major": 2,
              "version_minor": 0
            },
            "text/plain": [
              "  0%|          | 0/170498071 [00:00<?, ?it/s]"
            ]
          },
          "metadata": {},
          "output_type": "display_data"
        },
        {
          "name": "stdout",
          "output_type": "stream",
          "text": [
            "Extracting ./data/cifar-10-python.tar.gz to ./data\n",
            "Files already downloaded and verified\n",
            "Files already downloaded and verified\n",
            "Files already downloaded and verified\n",
            "Files already downloaded and verified\n"
          ]
        }
      ],
      "source": [
        "transformer_train = []\n",
        "\n",
        "augmenting_method = [transforms.RandomHorizontalFlip(),\n",
        "                     transforms.RandomRotation(10),\n",
        "                     transforms.RandomAffine(0, shear=10, scale=(0.8, 1.2)),\n",
        "                     transforms.ColorJitter(brightness=0.2, contrast=0.2, saturation=0.2),\n",
        "                     transforms.GaussianBlur(kernel_size=(7, 13), sigma=(0.1, 0.2)),]\n",
        "N = len(augmenting_method)\n",
        "\n",
        "for i in range(N):\n",
        "    transformer_train.append(transforms.Compose([augmenting_method[i],\n",
        "                                                 transforms.ToTensor(),\n",
        "                                               ]))\n",
        "\n",
        "transformer = transforms.Compose([transforms.ToTensor(),])\n",
        "training_loader = []\n",
        "\n",
        "for i in range(N):\n",
        "    training_dataset = datasets.MNIST(root='./data', train=True, download=True, transform=transformer_train[i])\n",
        "    training_loader.append(torch.utils.data.DataLoader(dataset=training_dataset, batch_size=100, shuffle=True))\n",
        "\n",
        "validation_dataset = datasets.MNIST(root='./data', train=False, transform=transforms.ToTensor(), download=True)\n",
        "validation_loader = torch.utils.data.DataLoader(dataset=validation_dataset, batch_size=100, shuffle=False)"
      ]
    },
    {
      "cell_type": "code",
      "execution_count": 6,
      "metadata": {
        "id": "5w2eR5IAbMHS"
      },
      "outputs": [],
      "source": [
        "class Net(nn.Module):\n",
        "\n",
        "  def __init__(self):\n",
        "    super().__init__()\n",
        "    # 32px 이었다가, conv를 거치면서 절반으로 감소\n",
        "    self.conv1 = nn.Conv2d(1, 16, 3, 1, padding=1)\n",
        "    self.conv2 = nn.Conv2d(16, 32, 3, 1, padding=1)\n",
        "    self.conv3 = nn.Conv2d(32, 64, 3, 1, padding=1)\n",
        "    self.fc1 = nn.Linear(4*4*64, 500)\n",
        "    self.dropout1 = nn.Dropout(0.5)\n",
        "    self.fc2 = nn.Linear(500, 10)\n",
        "\n",
        "  def forward(self, x):\n",
        "    x = F.relu(self.conv1(x))\n",
        "    x = F.max_pool2d(x, 2, 2)\n",
        "    x = F.relu(self.conv2(x))\n",
        "    x = F.max_pool2d(x, 2, 2)\n",
        "    x = F.relu(self.conv3(x))\n",
        "    x = F.max_pool2d(x, 2, 2)\n",
        "    x = x.view(-1, 4*4*64)\n",
        "    x = F.relu(self.fc1(x))\n",
        "    x = self.dropout1(x)\n",
        "    x = self.fc2(x)\n",
        "    return x"
      ]
    },
    {
      "cell_type": "code",
      "execution_count": 7,
      "metadata": {
        "id": "x2tqRxViOJrE"
      },
      "outputs": [],
      "source": [
        "model = []\n",
        "for _ in range(N):\n",
        "    augmented_model = Net().to(device)\n",
        "    model.append(augmented_model)"
      ]
    },
    {
      "cell_type": "code",
      "execution_count": 8,
      "metadata": {
        "id": "3VjPA5Hfa1dp"
      },
      "outputs": [],
      "source": [
        "criterion = nn.CrossEntropyLoss()\n",
        "optimizer = []\n",
        "for i in range(N):\n",
        "    optimizer.append(torch.optim.Adam(model[i].parameters(), lr=0.001))"
      ]
    },
    {
      "cell_type": "code",
      "execution_count": 9,
      "metadata": {
        "id": "Dfpcyz8tbDX5"
      },
      "outputs": [],
      "source": [
        "def train(device, model, criterion, optimizer, training_loader, validation_loader):\n",
        "  epochs = 12\n",
        "  running_loss_history = []\n",
        "  running_correct_history = []\n",
        "  validation_running_loss_history = []\n",
        "  validation_running_correct_history = []\n",
        "\n",
        "  for e in range(epochs):\n",
        "\n",
        "    running_loss = 0.0\n",
        "    running_correct = 0.0\n",
        "    validation_running_loss = 0.0\n",
        "    validation_running_correct = 0.0\n",
        "\n",
        "    for inputs, labels in training_loader:\n",
        "\n",
        "      inputs = inputs.to(device)\n",
        "      labels = labels.to(device)\n",
        "      outputs = model(inputs)\n",
        "      loss = criterion(outputs, labels)\n",
        "\n",
        "      optimizer.zero_grad()\n",
        "      loss.backward()\n",
        "      optimizer.step()\n",
        "\n",
        "      _, preds = torch.max(outputs, 1)\n",
        "\n",
        "      running_correct += torch.sum(preds == labels.data)\n",
        "      running_loss += loss.item()\n",
        "\n",
        "\n",
        "\n",
        "    else:\n",
        "      # 훈련팔 필요가 없으므로 메모리 절약\n",
        "      with torch.no_grad():\n",
        "\n",
        "        for val_input, val_label in validation_loader:\n",
        "\n",
        "          val_input = val_input.to(device)\n",
        "          val_label = val_label.to(device)\n",
        "          val_outputs = model(val_input)\n",
        "          val_loss = criterion(val_outputs, val_label)\n",
        "\n",
        "          _, val_preds = torch.max(val_outputs, 1)\n",
        "          validation_running_loss += val_loss.item()\n",
        "          validation_running_correct += torch.sum(val_preds == val_label.data)\n",
        "\n",
        "\n",
        "      epoch_loss = running_loss / len(training_loader)\n",
        "      epoch_acc = running_correct.float() / len(training_loader)\n",
        "      running_loss_history.append(epoch_loss)\n",
        "      running_correct_history.append(epoch_acc)\n",
        "\n",
        "      val_epoch_loss = validation_running_loss / len(validation_loader)\n",
        "      val_epoch_acc = validation_running_correct.float() / len(validation_loader)\n",
        "      validation_running_loss_history.append(val_epoch_loss)\n",
        "      validation_running_correct_history.append(val_epoch_acc)\n",
        "\n",
        "      print(\"===================================================\")\n",
        "      print(\"epoch: \", e + 1)\n",
        "      print(\"training loss: {:.5f}, acc: {:5f}\".format(epoch_loss, epoch_acc))\n",
        "      print(\"validation loss: {:.5f}, acc: {:5f}\".format(val_epoch_loss, val_epoch_acc))"
      ]
    },
    {
      "cell_type": "code",
      "execution_count": null,
      "metadata": {
        "colab": {
          "base_uri": "https://localhost:8080/"
        },
        "id": "NCVDIEXoOJrF",
        "outputId": "5f5980bc-e9a1-4875-d8b1-d46476a8a4bc"
      },
      "outputs": [],
      "source": [
        "for i in range(N):\n",
        "    train(device, model[i], criterion, optimizer[i], training_loader[i], validation_loader)\n",
        "    torch.save(model[i].state_dict(), f'mnist_weights_{augmenting_method[i].__class__.__name__}.pth')"
      ]
    }
  ],
  "metadata": {
    "accelerator": "GPU",
    "colab": {
      "provenance": []
    },
    "gpuClass": "standard",
    "kernelspec": {
      "display_name": "Python 3.10.2 64-bit",
      "language": "python",
      "name": "python3"
    },
    "language_info": {
      "name": "python",
      "version": "3.10.2"
    },
    "vscode": {
      "interpreter": {
        "hash": "951cb00ebd66971857c5880c838618f69a707a5e4d3bee9fba08c4850d7bcc87"
      }
    },
    "widgets": {
      "application/vnd.jupyter.widget-state+json": {
        "2a97372a97354985bf47a0238695bf7a": {
          "model_module": "@jupyter-widgets/controls",
          "model_module_version": "1.5.0",
          "model_name": "ProgressStyleModel",
          "state": {
            "_model_module": "@jupyter-widgets/controls",
            "_model_module_version": "1.5.0",
            "_model_name": "ProgressStyleModel",
            "_view_count": null,
            "_view_module": "@jupyter-widgets/base",
            "_view_module_version": "1.2.0",
            "_view_name": "StyleView",
            "bar_color": null,
            "description_width": ""
          }
        },
        "2b08610406534916811f920938db167b": {
          "model_module": "@jupyter-widgets/controls",
          "model_module_version": "1.5.0",
          "model_name": "HTMLModel",
          "state": {
            "_dom_classes": [],
            "_model_module": "@jupyter-widgets/controls",
            "_model_module_version": "1.5.0",
            "_model_name": "HTMLModel",
            "_view_count": null,
            "_view_module": "@jupyter-widgets/controls",
            "_view_module_version": "1.5.0",
            "_view_name": "HTMLView",
            "description": "",
            "description_tooltip": null,
            "layout": "IPY_MODEL_63e2163f94684abb88c3882a79a37b3d",
            "placeholder": "​",
            "style": "IPY_MODEL_9c13356395f0482ea804f86a147bc3f3",
            "value": "100%"
          }
        },
        "2b228f77af8c4d51a38a7151cb32be07": {
          "model_module": "@jupyter-widgets/controls",
          "model_module_version": "1.5.0",
          "model_name": "DescriptionStyleModel",
          "state": {
            "_model_module": "@jupyter-widgets/controls",
            "_model_module_version": "1.5.0",
            "_model_name": "DescriptionStyleModel",
            "_view_count": null,
            "_view_module": "@jupyter-widgets/base",
            "_view_module_version": "1.2.0",
            "_view_name": "StyleView",
            "description_width": ""
          }
        },
        "36f055b610fe4d3d8d9f847f909c5f3a": {
          "model_module": "@jupyter-widgets/controls",
          "model_module_version": "1.5.0",
          "model_name": "HTMLModel",
          "state": {
            "_dom_classes": [],
            "_model_module": "@jupyter-widgets/controls",
            "_model_module_version": "1.5.0",
            "_model_name": "HTMLModel",
            "_view_count": null,
            "_view_module": "@jupyter-widgets/controls",
            "_view_module_version": "1.5.0",
            "_view_name": "HTMLView",
            "description": "",
            "description_tooltip": null,
            "layout": "IPY_MODEL_d5272fc683184127bbb2566f5c22a042",
            "placeholder": "​",
            "style": "IPY_MODEL_2b228f77af8c4d51a38a7151cb32be07",
            "value": " 170498071/170498071 [00:01&lt;00:00, 103601935.65it/s]"
          }
        },
        "53713fe7544e4f059c389db5ccb64f53": {
          "model_module": "@jupyter-widgets/base",
          "model_module_version": "1.2.0",
          "model_name": "LayoutModel",
          "state": {
            "_model_module": "@jupyter-widgets/base",
            "_model_module_version": "1.2.0",
            "_model_name": "LayoutModel",
            "_view_count": null,
            "_view_module": "@jupyter-widgets/base",
            "_view_module_version": "1.2.0",
            "_view_name": "LayoutView",
            "align_content": null,
            "align_items": null,
            "align_self": null,
            "border": null,
            "bottom": null,
            "display": null,
            "flex": null,
            "flex_flow": null,
            "grid_area": null,
            "grid_auto_columns": null,
            "grid_auto_flow": null,
            "grid_auto_rows": null,
            "grid_column": null,
            "grid_gap": null,
            "grid_row": null,
            "grid_template_areas": null,
            "grid_template_columns": null,
            "grid_template_rows": null,
            "height": null,
            "justify_content": null,
            "justify_items": null,
            "left": null,
            "margin": null,
            "max_height": null,
            "max_width": null,
            "min_height": null,
            "min_width": null,
            "object_fit": null,
            "object_position": null,
            "order": null,
            "overflow": null,
            "overflow_x": null,
            "overflow_y": null,
            "padding": null,
            "right": null,
            "top": null,
            "visibility": null,
            "width": null
          }
        },
        "63e2163f94684abb88c3882a79a37b3d": {
          "model_module": "@jupyter-widgets/base",
          "model_module_version": "1.2.0",
          "model_name": "LayoutModel",
          "state": {
            "_model_module": "@jupyter-widgets/base",
            "_model_module_version": "1.2.0",
            "_model_name": "LayoutModel",
            "_view_count": null,
            "_view_module": "@jupyter-widgets/base",
            "_view_module_version": "1.2.0",
            "_view_name": "LayoutView",
            "align_content": null,
            "align_items": null,
            "align_self": null,
            "border": null,
            "bottom": null,
            "display": null,
            "flex": null,
            "flex_flow": null,
            "grid_area": null,
            "grid_auto_columns": null,
            "grid_auto_flow": null,
            "grid_auto_rows": null,
            "grid_column": null,
            "grid_gap": null,
            "grid_row": null,
            "grid_template_areas": null,
            "grid_template_columns": null,
            "grid_template_rows": null,
            "height": null,
            "justify_content": null,
            "justify_items": null,
            "left": null,
            "margin": null,
            "max_height": null,
            "max_width": null,
            "min_height": null,
            "min_width": null,
            "object_fit": null,
            "object_position": null,
            "order": null,
            "overflow": null,
            "overflow_x": null,
            "overflow_y": null,
            "padding": null,
            "right": null,
            "top": null,
            "visibility": null,
            "width": null
          }
        },
        "967406952e4f461c9c49d3de019ff4d0": {
          "model_module": "@jupyter-widgets/controls",
          "model_module_version": "1.5.0",
          "model_name": "FloatProgressModel",
          "state": {
            "_dom_classes": [],
            "_model_module": "@jupyter-widgets/controls",
            "_model_module_version": "1.5.0",
            "_model_name": "FloatProgressModel",
            "_view_count": null,
            "_view_module": "@jupyter-widgets/controls",
            "_view_module_version": "1.5.0",
            "_view_name": "ProgressView",
            "bar_style": "success",
            "description": "",
            "description_tooltip": null,
            "layout": "IPY_MODEL_db1f78002d46449f974f67a337b12fc1",
            "max": 170498071,
            "min": 0,
            "orientation": "horizontal",
            "style": "IPY_MODEL_2a97372a97354985bf47a0238695bf7a",
            "value": 170498071
          }
        },
        "9c13356395f0482ea804f86a147bc3f3": {
          "model_module": "@jupyter-widgets/controls",
          "model_module_version": "1.5.0",
          "model_name": "DescriptionStyleModel",
          "state": {
            "_model_module": "@jupyter-widgets/controls",
            "_model_module_version": "1.5.0",
            "_model_name": "DescriptionStyleModel",
            "_view_count": null,
            "_view_module": "@jupyter-widgets/base",
            "_view_module_version": "1.2.0",
            "_view_name": "StyleView",
            "description_width": ""
          }
        },
        "d5272fc683184127bbb2566f5c22a042": {
          "model_module": "@jupyter-widgets/base",
          "model_module_version": "1.2.0",
          "model_name": "LayoutModel",
          "state": {
            "_model_module": "@jupyter-widgets/base",
            "_model_module_version": "1.2.0",
            "_model_name": "LayoutModel",
            "_view_count": null,
            "_view_module": "@jupyter-widgets/base",
            "_view_module_version": "1.2.0",
            "_view_name": "LayoutView",
            "align_content": null,
            "align_items": null,
            "align_self": null,
            "border": null,
            "bottom": null,
            "display": null,
            "flex": null,
            "flex_flow": null,
            "grid_area": null,
            "grid_auto_columns": null,
            "grid_auto_flow": null,
            "grid_auto_rows": null,
            "grid_column": null,
            "grid_gap": null,
            "grid_row": null,
            "grid_template_areas": null,
            "grid_template_columns": null,
            "grid_template_rows": null,
            "height": null,
            "justify_content": null,
            "justify_items": null,
            "left": null,
            "margin": null,
            "max_height": null,
            "max_width": null,
            "min_height": null,
            "min_width": null,
            "object_fit": null,
            "object_position": null,
            "order": null,
            "overflow": null,
            "overflow_x": null,
            "overflow_y": null,
            "padding": null,
            "right": null,
            "top": null,
            "visibility": null,
            "width": null
          }
        },
        "db1f78002d46449f974f67a337b12fc1": {
          "model_module": "@jupyter-widgets/base",
          "model_module_version": "1.2.0",
          "model_name": "LayoutModel",
          "state": {
            "_model_module": "@jupyter-widgets/base",
            "_model_module_version": "1.2.0",
            "_model_name": "LayoutModel",
            "_view_count": null,
            "_view_module": "@jupyter-widgets/base",
            "_view_module_version": "1.2.0",
            "_view_name": "LayoutView",
            "align_content": null,
            "align_items": null,
            "align_self": null,
            "border": null,
            "bottom": null,
            "display": null,
            "flex": null,
            "flex_flow": null,
            "grid_area": null,
            "grid_auto_columns": null,
            "grid_auto_flow": null,
            "grid_auto_rows": null,
            "grid_column": null,
            "grid_gap": null,
            "grid_row": null,
            "grid_template_areas": null,
            "grid_template_columns": null,
            "grid_template_rows": null,
            "height": null,
            "justify_content": null,
            "justify_items": null,
            "left": null,
            "margin": null,
            "max_height": null,
            "max_width": null,
            "min_height": null,
            "min_width": null,
            "object_fit": null,
            "object_position": null,
            "order": null,
            "overflow": null,
            "overflow_x": null,
            "overflow_y": null,
            "padding": null,
            "right": null,
            "top": null,
            "visibility": null,
            "width": null
          }
        },
        "fa3300fb9b5e4514a7b825aae436f45e": {
          "model_module": "@jupyter-widgets/controls",
          "model_module_version": "1.5.0",
          "model_name": "HBoxModel",
          "state": {
            "_dom_classes": [],
            "_model_module": "@jupyter-widgets/controls",
            "_model_module_version": "1.5.0",
            "_model_name": "HBoxModel",
            "_view_count": null,
            "_view_module": "@jupyter-widgets/controls",
            "_view_module_version": "1.5.0",
            "_view_name": "HBoxView",
            "box_style": "",
            "children": [
              "IPY_MODEL_2b08610406534916811f920938db167b",
              "IPY_MODEL_967406952e4f461c9c49d3de019ff4d0",
              "IPY_MODEL_36f055b610fe4d3d8d9f847f909c5f3a"
            ],
            "layout": "IPY_MODEL_53713fe7544e4f059c389db5ccb64f53"
          }
        }
      }
    }
  },
  "nbformat": 4,
  "nbformat_minor": 0
}
