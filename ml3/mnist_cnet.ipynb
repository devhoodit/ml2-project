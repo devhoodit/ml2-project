{
 "cells": [
  {
   "cell_type": "code",
   "execution_count": 1,
   "metadata": {},
   "outputs": [],
   "source": [
    "import torch\n",
    "import torch.nn as nn\n",
    "import torch.nn.functional as F\n",
    "import torch.optim as optim\n",
    "from torchvision import datasets, transforms\n",
    "from matplotlib import pyplot as plt\n",
    "from torchmetrics.functional.classification import accuracy\n",
    "from torchmetrics.aggregation import MeanMetric\n",
    "from src.model import MNIST"
   ]
  },
  {
   "cell_type": "code",
   "execution_count": 2,
   "metadata": {},
   "outputs": [
    {
     "name": "stdout",
     "output_type": "stream",
     "text": [
      "Device = cuda\n"
     ]
    }
   ],
   "source": [
    "device = torch.device('cuda' if torch.cuda.is_available() else 'cuda')\n",
    "print(f\"Device = {device}\")"
   ]
  },
  {
   "cell_type": "code",
   "execution_count": 3,
   "metadata": {},
   "outputs": [
    {
     "name": "stdout",
     "output_type": "stream",
     "text": [
      "60000 10000\n"
     ]
    }
   ],
   "source": [
    "train_data = datasets.MNIST(root=\"./data/mnist/\",\n",
    "                            train=True,\n",
    "                            download=True,\n",
    "                            transform=transforms.ToTensor()\n",
    "                            )\n",
    "\n",
    "test_data = datasets.MNIST(root=\"./data/mnist/\",\n",
    "                           train=False,\n",
    "                           download=True,\n",
    "                           transform=transforms.ToTensor()\n",
    "                           )\n",
    "\n",
    "print(len(train_data), len(test_data))"
   ]
  },
  {
   "cell_type": "code",
   "execution_count": 4,
   "metadata": {},
   "outputs": [],
   "source": [
    "batch_size = 50\n",
    "learning_rate = 0.0001\n",
    "epoch_num = 20"
   ]
  },
  {
   "cell_type": "code",
   "execution_count": 5,
   "metadata": {},
   "outputs": [],
   "source": [
    "train_loader = torch.utils.data.DataLoader(dataset=train_data, batch_size=batch_size, shuffle=True)\n",
    "test_loader = torch.utils.data.DataLoader(dataset=test_data, batch_size=batch_size, shuffle=True)"
   ]
  },
  {
   "cell_type": "code",
   "execution_count": 6,
   "metadata": {},
   "outputs": [],
   "source": [
    "model = MNIST.CNet().to(device)\n",
    "optimizer = optim.Adam(model.parameters(), lr=learning_rate)\n",
    "loss_fn = nn.CrossEntropyLoss()\n",
    "metric_fn = accuracy"
   ]
  },
  {
   "cell_type": "code",
   "execution_count": 7,
   "metadata": {},
   "outputs": [
    {
     "name": "stdout",
     "output_type": "stream",
     "text": [
      "Epoch: 1, Accuracy: 0.7851, Loss: 0.8042\n",
      "Epoch: 2, Accuracy: 0.8435, Loss: 0.5650\n",
      "Epoch: 3, Accuracy: 0.8703, Loss: 0.4611\n",
      "Epoch: 4, Accuracy: 0.8874, Loss: 0.3963\n",
      "Epoch: 5, Accuracy: 0.9000, Loss: 0.3498\n",
      "Epoch: 6, Accuracy: 0.9097, Loss: 0.3142\n",
      "Epoch: 7, Accuracy: 0.9175, Loss: 0.2861\n",
      "Epoch: 8, Accuracy: 0.9239, Loss: 0.2630\n",
      "Epoch: 9, Accuracy: 0.9293, Loss: 0.2437\n",
      "Epoch: 10, Accuracy: 0.9339, Loss: 0.2274\n",
      "Epoch: 11, Accuracy: 0.9378, Loss: 0.2133\n",
      "Epoch: 12, Accuracy: 0.9413, Loss: 0.2011\n",
      "Epoch: 13, Accuracy: 0.9444, Loss: 0.1904\n",
      "Epoch: 14, Accuracy: 0.9470, Loss: 0.1809\n",
      "Epoch: 15, Accuracy: 0.9495, Loss: 0.1725\n",
      "Epoch: 16, Accuracy: 0.9516, Loss: 0.1649\n",
      "Epoch: 17, Accuracy: 0.9536, Loss: 0.1580\n",
      "Epoch: 18, Accuracy: 0.9554, Loss: 0.1518\n",
      "Epoch: 19, Accuracy: 0.9571, Loss: 0.1461\n",
      "Epoch: 20, Accuracy: 0.9586, Loss: 0.1408\n"
     ]
    }
   ],
   "source": [
    "model.train()\n",
    "\n",
    "loss_mean = MeanMetric()\n",
    "metric_mean = MeanMetric()\n",
    "\n",
    "for epoch in range(epoch_num):\n",
    "    for data, target in train_loader:\n",
    "        data = data.to(device)\n",
    "        target = target.to(device)\n",
    "        optimizer.zero_grad()\n",
    "        output = model(data)\n",
    "        loss = loss_fn(output, target)\n",
    "        metric = metric_fn(output, target)\n",
    "        loss.backward()\n",
    "        optimizer.step()\n",
    "        \n",
    "        loss_mean.update(loss.to('cpu'))\n",
    "        metric_mean.update(metric.to('cpu'))\n",
    "    print(f\"Epoch: {epoch+1}, Accuracy: {metric_mean.compute():.4f}, Loss: {loss_mean.compute():.4f}\")\n",
    "        \n",
    "    \n",
    "        "
   ]
  },
  {
   "cell_type": "code",
   "execution_count": 8,
   "metadata": {},
   "outputs": [
    {
     "name": "stdout",
     "output_type": "stream",
     "text": [
      "Test set Accuracy : 98.56%\n"
     ]
    }
   ],
   "source": [
    "model.eval()\n",
    "\n",
    "correct = 0\n",
    "for data, target in test_loader:\n",
    "    data = data.to(device)\n",
    "    target = target.to(device)\n",
    "    output = model(data)\n",
    "    prediction = output.data.max(1)[1]\n",
    "    correct += prediction.eq(target.data).sum()\n",
    "print('Test set Accuracy : {:.2f}%'.format(100. * correct / len(test_loader.dataset)))"
   ]
  },
  {
   "cell_type": "code",
   "execution_count": 9,
   "metadata": {},
   "outputs": [],
   "source": [
    "state_dict = {\n",
    "    'model': model.state_dict(),\n",
    "    'optimizer': optimizer.state_dict(),\n",
    "}\n",
    "checkpoint_path = './checkpoints/mnist_cnet.pth'\n",
    "\n",
    "torch.save(state_dict, checkpoint_path)"
   ]
  }
 ],
 "metadata": {
  "kernelspec": {
   "display_name": "Python 3.9.13 ('ml2')",
   "language": "python",
   "name": "python3"
  },
  "language_info": {
   "codemirror_mode": {
    "name": "ipython",
    "version": 3
   },
   "file_extension": ".py",
   "mimetype": "text/x-python",
   "name": "python",
   "nbconvert_exporter": "python",
   "pygments_lexer": "ipython3",
   "version": "3.9.15"
  },
  "orig_nbformat": 4,
  "vscode": {
   "interpreter": {
    "hash": "df161767fb83e142adc6722016bbcc09bd6a7fe2a0953cad93dd94a9db370121"
   }
  }
 },
 "nbformat": 4,
 "nbformat_minor": 2
}
