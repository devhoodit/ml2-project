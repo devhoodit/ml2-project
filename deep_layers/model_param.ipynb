{
 "cells": [
  {
   "cell_type": "code",
   "execution_count": 4,
   "metadata": {},
   "outputs": [
    {
     "name": "stdout",
     "output_type": "stream",
     "text": [
      "----------------------------------------------------------------\n",
      "        Layer (type)               Output Shape         Param #\n",
      "================================================================\n",
      "            Conv2d-1            [-1, 5, 28, 28]              50\n",
      "         MaxPool2d-2            [-1, 5, 14, 14]               0\n",
      "            Conv2d-3            [-1, 9, 14, 14]             414\n",
      "         MaxPool2d-4              [-1, 9, 7, 7]               0\n",
      "            Conv2d-5             [-1, 13, 7, 7]           1,066\n",
      "            Linear-6                  [-1, 200]         127,600\n",
      "            Linear-7                   [-1, 10]           2,010\n",
      "================================================================\n",
      "Total params: 131,140\n",
      "Trainable params: 131,140\n",
      "Non-trainable params: 0\n",
      "----------------------------------------------------------------\n",
      "Input size (MB): 0.00\n",
      "Forward/backward pass size (MB): 0.06\n",
      "Params size (MB): 0.50\n",
      "Estimated Total Size (MB): 0.56\n",
      "----------------------------------------------------------------\n",
      "----------------------------------------------------------------\n",
      "        Layer (type)               Output Shape         Param #\n",
      "================================================================\n",
      "            Conv2d-1            [-1, 5, 28, 28]              50\n",
      "         MaxPool2d-2            [-1, 5, 14, 14]               0\n",
      "            Conv2d-3            [-1, 9, 14, 14]             414\n",
      "         MaxPool2d-4              [-1, 9, 7, 7]               0\n",
      "            Conv2d-5             [-1, 13, 7, 7]           1,066\n",
      "            Linear-6                  [-1, 500]         319,000\n",
      "            Linear-7                  [-1, 300]         150,300\n",
      "            Linear-8                  [-1, 100]          30,100\n",
      "            Linear-9                   [-1, 10]           1,010\n",
      "================================================================\n",
      "Total params: 501,940\n",
      "Trainable params: 501,940\n",
      "Non-trainable params: 0\n",
      "----------------------------------------------------------------\n",
      "Input size (MB): 0.00\n",
      "Forward/backward pass size (MB): 0.07\n",
      "Params size (MB): 1.91\n",
      "Estimated Total Size (MB): 1.98\n",
      "----------------------------------------------------------------\n",
      "----------------------------------------------------------------\n",
      "        Layer (type)               Output Shape         Param #\n",
      "================================================================\n",
      "            Conv2d-1            [-1, 5, 28, 28]              50\n",
      "         MaxPool2d-2            [-1, 5, 14, 14]               0\n",
      "            Conv2d-3            [-1, 9, 14, 14]             414\n",
      "         MaxPool2d-4              [-1, 9, 7, 7]               0\n",
      "            Conv2d-5             [-1, 13, 7, 7]           1,066\n",
      "            Linear-6                  [-1, 500]         319,000\n",
      "            Linear-7                  [-1, 400]         200,400\n",
      "            Linear-8                  [-1, 300]         120,300\n",
      "            Linear-9                  [-1, 150]          45,150\n",
      "           Linear-10                   [-1, 10]           1,510\n",
      "================================================================\n",
      "Total params: 687,890\n",
      "Trainable params: 687,890\n",
      "Non-trainable params: 0\n",
      "----------------------------------------------------------------\n",
      "Input size (MB): 0.00\n",
      "Forward/backward pass size (MB): 0.07\n",
      "Params size (MB): 2.62\n",
      "Estimated Total Size (MB): 2.70\n",
      "----------------------------------------------------------------\n"
     ]
    }
   ],
   "source": [
    "from src.model import MNIST\n",
    "import torch\n",
    "from torchsummary import summary\n",
    "device = torch.device(\"cuda\" if torch.cuda.is_available() else \"cpu\")\n",
    "model = MNIST.Net().to(device)\n",
    "summary(model, (1, 28, 28))\n",
    "model = MNIST.BNet().to(device)\n",
    "summary(model, (1, 28, 28))\n",
    "model = MNIST.MNet().to(device)\n",
    "summary(model, (1, 28, 28))"
   ]
  }
 ],
 "metadata": {
  "kernelspec": {
   "display_name": "Python 3.9.15 ('ml2')",
   "language": "python",
   "name": "python3"
  },
  "language_info": {
   "codemirror_mode": {
    "name": "ipython",
    "version": 3
   },
   "file_extension": ".py",
   "mimetype": "text/x-python",
   "name": "python",
   "nbconvert_exporter": "python",
   "pygments_lexer": "ipython3",
   "version": "3.9.15"
  },
  "orig_nbformat": 4,
  "vscode": {
   "interpreter": {
    "hash": "df161767fb83e142adc6722016bbcc09bd6a7fe2a0953cad93dd94a9db370121"
   }
  }
 },
 "nbformat": 4,
 "nbformat_minor": 2
}
